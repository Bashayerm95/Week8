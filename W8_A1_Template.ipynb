{
 "cells": [
  {
   "cell_type": "markdown",
   "metadata": {},
   "source": [
    "# Quantum Stock Picking and Quantum Portfolio Optimization\n"
   ]
  },
  {
   "cell_type": "markdown",
   "metadata": {},
   "source": [
    "## Introduction\n",
    "\n",
    "This assignment will shows how we can use mean-variance optimization to pick stocks for a problem for $n$ assets:\n",
    "\n",
    "$$\\begin{aligned}\n",
    "\\min_{x \\in \\{0, 1\\}^n}  q x^T \\Sigma x - \\mu^T x\\\\\n",
    "\\text{subject to: } 1^T x = B\n",
    "\\end{aligned}$$\n",
    "\n",
    "where we use the following notation:\n",
    "\n",
    "- $x \\in \\{0, 1\\}^n$ denotes the vector of binary decision variables, which indicate which assets to pick ($x[i] = 1$) and which not to pick ($x[i] = 0$),\n",
    "- $\\mu \\in \\mathbb{R}^n$ defines the expected returns for the assets,\n",
    "- $\\Sigma \\in \\mathbb{R}^{n \\times n}$ specifies the covariances between the assets,\n",
    "- $q > 0$ controls the risk appetite of the decision maker,\n",
    "- and $B$ denotes the budget, i.e. the number of assets to be selected out of $n$.\n",
    "\n",
    "We assume the following simplifications:\n",
    "- all assets have the same price (normalized to 1),\n",
    "- the full budget $B$ has to be spent, i.e. one has to select exactly $B$ assets.\n",
    "\n",
    "The equality constraint $1^T x = B$ is mapped to a penalty term $(1^T x - B)^2$ which is scaled by a parameter and subtracted from the objective function. \n",
    "The resulting problem can be mapped to a Hamiltonian whose ground state corresponds to  the optimal solution.\n",
    "This notebook shows how to use the Variational Quantum Eigensolver (VQE) to find the optimal solution for a given set of parameters.\n",
    "\n",
    "Experiments on real quantum hardware for this problem are reported for instance in the following paper:\n",
    "<br>\n",
    "[Improving Variational Quantum Optimization using CVaR. Barkoutsos et al. 2019.](https://arxiv.org/abs/1907.04769)\n",
    "\n",
    "Note: We are not using CVaR as a portfolio statistic here, rather as a heuristic in our VQE procedure, curious students are encouraged to read the paper above."
   ]
  },
  {
   "cell_type": "markdown",
   "metadata": {},
   "source": [
    "#### To Students: Complete the following sections labeled todo"
   ]
  },
  {
   "cell_type": "code",
   "execution_count": 1,
   "metadata": {
    "ExecuteTime": {
     "end_time": "2020-07-13T20:35:05.710593Z",
     "start_time": "2020-07-13T20:34:57.647535Z"
    }
   },
   "outputs": [],
   "source": [
    "from qiskit import Aer\n",
    "from qiskit.algorithms import VQE, QAOA, NumPyMinimumEigensolver\n",
    "from qiskit.algorithms.optimizers import COBYLA\n",
    "from qiskit.circuit.library import TwoLocal\n",
    "from qiskit.utils import QuantumInstance\n",
    "from qiskit_finance.applications.optimization import PortfolioOptimization\n",
    "from qiskit_finance.data_providers import RandomDataProvider, YahooDataProvider\n",
    "from qiskit_optimization.algorithms import MinimumEigenOptimizer\n",
    "from qiskit_optimization.applications import OptimizationApplication\n",
    "from qiskit_optimization.converters import QuadraticProgramToQubo\n",
    "from qiskit.utils import algorithm_globals\n",
    "\n",
    "import numpy as np\n",
    "import matplotlib.pyplot as plt\n",
    "import datetime\n",
    "import pandas\n",
    "import pandas as pd\n",
    "\n",
    "def index_to_selection(i, num_assets):\n",
    "    s = \"{0:b}\".format(i).rjust(num_assets)\n",
    "    x = np.array([1 if s[i]=='1' else 0 for i in reversed(range(num_assets))])\n",
    "    return x\n",
    "\n",
    "def print_result(result):\n",
    "    selection = result.x\n",
    "    value = result.fval\n",
    "    print('Optimal: selection {}, value {:.4f}'.format(selection, value))\n",
    "    \n",
    "    eigenstate = result.min_eigen_solver_result.eigenstate\n",
    "    eigenvector = eigenstate if isinstance(eigenstate, np.ndarray) else eigenstate.to_matrix()\n",
    "    probabilities = np.abs(eigenvector)**2\n",
    "    i_sorted = reversed(np.argsort(probabilities))\n",
    "    print('\\n----------------- Full result ---------------------')\n",
    "    print('selection\\tvalue\\t\\tprobability')\n",
    "    print('---------------------------------------------------')\n",
    "    for i in i_sorted:\n",
    "        x = index_to_selection(i, num_assets)\n",
    "        value = QuadraticProgramToQubo().convert(qp).objective.evaluate(x)\n",
    "        #value = portfolio.to_quadratic_program().objective.evaluate(x)\n",
    "        probability = probabilities[i]\n",
    "        print('%10s\\t%.4f\\t\\t%.4f' %(x, value, probability))"
   ]
  },
  {
   "cell_type": "code",
   "execution_count": 2,
   "metadata": {},
   "outputs": [],
   "source": [
    "from qiskit import IBMQ\n",
    "IBMQ.save_account('9f19c807c1e76234ea26b18600a088addbd4690af61e9b9afbe1a819589ebf81d39ceb4d2559e43f3bd2942d5bed6d26b602b8dc451f07d3361284516df6df1a', overwrite=True)"
   ]
  },
  {
   "cell_type": "code",
   "execution_count": 3,
   "metadata": {},
   "outputs": [],
   "source": [
    "#global random seed used throuhgout\n",
    "seed = 123"
   ]
  },
  {
   "cell_type": "code",
   "execution_count": 4,
   "metadata": {
    "ExecuteTime": {
     "end_time": "2020-07-13T20:35:15.224327Z",
     "start_time": "2020-07-13T20:35:15.213892Z"
    }
   },
   "outputs": [],
   "source": [
    "# Generate expected return and covariance matrix from (random) time-series\n",
    "\n",
    "#Todo pick candidate stocks, 3-8 are recommended, stick to 4 if you're going to submit a real quantum experiment to IBM's cloud:\n",
    "\n",
    "stocks = ['SPY','AMZN','NVDA','MU','IBM']\n",
    "\n",
    "# Here are some quantum themed stocks :) \n",
    "# ['IBM','AMD','ACN','NVDA','GOOGL','MSFT','AMZN','MU','BABA']\n",
    "# Feel free to pick any in this list or beyond\n",
    "    \n",
    "num_assets = len(stocks)\n",
    "\n",
    "#IBM has done us a favour and provided a cute data provider they designed.\n",
    "data = YahooDataProvider(tickers=stocks,\n",
    "                 start=pandas.Timestamp('2014'),\n",
    "                 end=pandas.Timestamp.now())\n",
    "data.run()\n",
    "\n",
    "# Here we pull apart the IBM qiskit_finance.data_provider internals to retreive our data and format as a pandas DataFrame\n",
    "df = pandas.DataFrame({data._tickers[tidx]:data._data[tidx] for tidx in range(len(data._tickers))})\n",
    "\n",
    "# Provided by IBM\n",
    "mu = data.get_period_return_mean_vector()\n",
    "sigma = data.get_period_return_covariance_matrix()"
   ]
  },
  {
   "cell_type": "code",
   "execution_count": 5,
   "metadata": {
    "ExecuteTime": {
     "end_time": "2020-07-13T20:35:15.231767Z",
     "start_time": "2020-07-13T20:35:15.226490Z"
    }
   },
   "outputs": [
    {
     "data": {
      "text/plain": [
       "\\ This file has been generated by DOcplex\n",
       "\\ ENCODING=ISO-8859-1\n",
       "\\Problem name: Portfolio optimization\n",
       "\n",
       "Minimize\n",
       " obj: - 0.000599271042 x_0 - 0.001284737592 x_1 - 0.002624932997 x_2\n",
       "      - 0.001116300170 x_3 - 0.000075220353 x_4 + [ 0.000114547656 x_0^2\n",
       "      + 0.000231749840 x_0*x_1 + 0.000346644747 x_0*x_2 + 0.000364548322 x_0*x_3\n",
       "      + 0.000220288853 x_0*x_4 + 0.000368438031 x_1^2 + 0.000478009895 x_1*x_2\n",
       "      + 0.000385280912 x_1*x_3 + 0.000179286635 x_1*x_4 + 0.000741456893 x_2^2\n",
       "      + 0.000848382045 x_2*x_3 + 0.000288363519 x_2*x_4 + 0.000841282623 x_3^2\n",
       "      + 0.000360746404 x_3*x_4 + 0.000229709503 x_4^2 ]/2\n",
       "Subject To\n",
       " c0: x_0 + x_1 + x_2 + x_3 + x_4 = 2\n",
       "\n",
       "Bounds\n",
       " 0 <= x_0 <= 1\n",
       " 0 <= x_1 <= 1\n",
       " 0 <= x_2 <= 1\n",
       " 0 <= x_3 <= 1\n",
       " 0 <= x_4 <= 1\n",
       "\n",
       "Binaries\n",
       " x_0 x_1 x_2 x_3 x_4\n",
       "End"
      ]
     },
     "execution_count": 5,
     "metadata": {},
     "output_type": "execute_result"
    }
   ],
   "source": [
    "q = 0.50                   #  risk appetite \n",
    "budget = num_assets  //2   #  stocks to allocate\n",
    "penalty = num_assets       #  set parameter to scale the budget penalty term\n",
    "bounds = None              #  Allocation percent: None: 100%\n",
    "\n",
    "portfolio = PortfolioOptimization(expected_returns=mu, covariances=sigma, risk_factor=q, budget=budget,bounds=bounds)\n",
    "qp = portfolio.to_quadratic_program()\n",
    "qp"
   ]
  },
  {
   "cell_type": "code",
   "execution_count": null,
   "metadata": {
    "ExecuteTime": {
     "end_time": "2020-07-13T20:35:15.243604Z",
     "start_time": "2020-07-13T20:35:15.233567Z"
    }
   },
   "outputs": [],
   "source": []
  },
  {
   "cell_type": "markdown",
   "metadata": {
    "tags": []
   },
   "source": [
    "## Solution using VQE\n",
    "We can now use the Variational Quantum Eigensolver (VQE) to solve the problem. We will specify the optimizer and variational form to be used.\n",
    "\n",
    "Note: You can switch to different backends by providing the name of backend."
   ]
  },
  {
   "cell_type": "code",
   "execution_count": 6,
   "metadata": {
    "ExecuteTime": {
     "end_time": "2020-07-13T20:35:26.536878Z",
     "start_time": "2020-07-13T20:35:24.379996Z"
    }
   },
   "outputs": [
    {
     "name": "stderr",
     "output_type": "stream",
     "text": [
      "/opt/conda/lib/python3.8/site-packages/sympy/core/expr.py:3949: SymPyDeprecationWarning: \n",
      "\n",
      "expr_free_symbols method has been deprecated since SymPy 1.9. See\n",
      "https://github.com/sympy/sympy/issues/21494 for more info.\n",
      "\n",
      "  SymPyDeprecationWarning(feature=\"expr_free_symbols method\",\n"
     ]
    },
    {
     "name": "stdout",
     "output_type": "stream",
     "text": [
      "Optimal: selection [0. 1. 1. 0. 0.], value -0.0031\n",
      "\n",
      "----------------- Full result ---------------------\n",
      "selection\tvalue\t\tprobability\n",
      "---------------------------------------------------\n",
      "[0 0 1 0 1]\t-0.0021\t\t0.5494\n",
      "[0 1 1 0 0]\t-0.0031\t\t0.4395\n",
      "[1 1 0 0 0]\t-0.0015\t\t0.0063\n",
      "[1 0 0 0 1]\t-0.0004\t\t0.0039\n",
      "[0 1 0 1 0]\t-0.0016\t\t0.0003\n",
      "[0 0 0 1 1]\t-0.0005\t\t0.0002\n",
      "[0 1 0 0 1]\t-0.0010\t\t0.0002\n",
      "[1 0 1 0 1]\t1.0064\t\t0.0001\n",
      "[1 1 1 0 0]\t1.0053\t\t0.0001\n",
      "[1 0 1 0 0]\t-0.0026\t\t0.0001\n",
      "[1 1 0 0 1]\t1.0074\t\t0.0000\n",
      "[1 1 0 1 0]\t1.0069\t\t0.0000\n",
      "[1 0 0 1 1]\t1.0080\t\t0.0000\n",
      "[1 0 0 0 0]\t1.0082\t\t0.0000\n",
      "[0 1 1 0 1]\t1.0059\t\t0.0000\n",
      "[1 0 1 1 1]\t4.0326\t\t0.0000\n",
      "[0 1 0 0 0]\t1.0076\t\t0.0000\n",
      "[1 1 1 1 0]\t4.0315\t\t0.0000\n",
      "[0 0 1 1 1]\t1.0065\t\t0.0000\n",
      "[0 0 0 0 1]\t1.0087\t\t0.0000\n",
      "[0 0 0 0 0]\t4.0348\t\t0.0000\n",
      "[0 0 1 1 0]\t-0.0025\t\t0.0000\n",
      "[1 1 1 0 1]\t4.0318\t\t0.0000\n",
      "[0 0 1 0 0]\t1.0064\t\t0.0000\n",
      "[0 0 0 1 0]\t1.0080\t\t0.0000\n",
      "[0 1 1 1 1]\t4.0321\t\t0.0000\n",
      "[1 0 0 1 0]\t-0.0011\t\t0.0000\n",
      "[0 1 0 1 1]\t1.0074\t\t0.0000\n",
      "[1 1 1 1 1]\t9.0756\t\t0.0000\n",
      "[1 0 1 1 0]\t1.0060\t\t0.0000\n",
      "[1 1 0 1 1]\t4.0334\t\t0.0000\n",
      "[0 1 1 1 0]\t1.0055\t\t0.0000\n"
     ]
    }
   ],
   "source": [
    "algorithm_globals.random_seed = seed+1\n",
    "backend = Aer.get_backend('statevector_simulator')\n",
    "#IBMQ.providers()[0].backends()[-1]\n",
    "\n",
    "cobyla = COBYLA()\n",
    "cobyla.set_options(maxiter=500)\n",
    "\n",
    "ry = TwoLocal(num_assets, 'ry', 'cz', reps=3, entanglement='full')\n",
    "\n",
    "quantum_instance = QuantumInstance(backend=backend, seed_simulator=seed, seed_transpiler=seed)\n",
    "\n",
    "vqe_mes = VQE(ry, optimizer=cobyla, quantum_instance=quantum_instance)\n",
    "vqe = MinimumEigenOptimizer(vqe_mes)\n",
    "\n",
    "result = vqe.solve(qp)\n",
    "\n",
    "\n",
    "# print(result.fval)\n",
    "print_result(result)"
   ]
  },
  {
   "cell_type": "code",
   "execution_count": 7,
   "metadata": {},
   "outputs": [
    {
     "name": "stdout",
     "output_type": "stream",
     "text": [
      "Stocks from our Qunatum Stock Picking algorthm selected: ['AMZN', 'NVDA']\n"
     ]
    }
   ],
   "source": [
    "selected_stocks = list(np.array(stocks)[result.x.astype('bool')])\n",
    "print(f\"Stocks from our Qunatum Stock Picking algorthm selected: {selected_stocks}\")"
   ]
  },
  {
   "cell_type": "markdown",
   "metadata": {},
   "source": [
    "### Student todo, complete an equity curve, CAGR and IR comparison for the portfolio of all the stocks you selected for optimization compared to one which your Quantum Stock picker put together\n",
    "\n",
    "hints:\n",
    "\n",
    "\n",
    "df[selected_stocks] contains a data frame with your stock pick prices.   \n",
    "df is the full list of stocks you started with."
   ]
  },
  {
   "cell_type": "code",
   "execution_count": 8,
   "metadata": {},
   "outputs": [
    {
     "name": "stdout",
     "output_type": "stream",
     "text": [
      "IR selection: 1.56%\n",
      "IR all: 1.17 %\n",
      "CAGR selection: 154.91%\n",
      "CAGR all: 127.0%\n"
     ]
    },
    {
     "data": {
      "image/png": "[encoded data removed]",
      "text/plain": [
       "<Figure size 432x288 with 1 Axes>"
      ]
     },
     "metadata": {
      "needs_background": "light"
     },
     "output_type": "display_data"
    }
   ],
   "source": [
    "all_df = df\n",
    "sel_df = df[selected_stocks]\n",
    "\n",
    "all_df_dr = all_df.pct_change().dropna().mean(axis=1)\n",
    "sel_df_dr = sel_df.pct_change().dropna().mean(axis=1)\n",
    "\n",
    "\n",
    "eq_all = 10000*all_df_dr.add(1).cumprod()\n",
    "eq_sel = 10000*sel_df_dr.add(1).cumprod()\n",
    "\n",
    "eq_all.plot()\n",
    "eq_sel.plot()\n",
    "plt.legend(['All','Q-Stck-Pck-er'])\n",
    "\n",
    "IR_sel = (sel_df_dr.mean() / sel_df_dr.std()) * (252) ** 0.5\n",
    "IR_all = (all_df_dr.mean() / all_df_dr.std()) * (252) ** 0.5\n",
    "\n",
    "print(f\"IR selection: {round(IR_sel,2)}%\")\n",
    "print(f\"IR all: {round(IR_all,2)} %\")\n",
    "\n",
    "CAGR_all = 100*((eq_all.iloc[-1]/10000)-1) ** (252/len(eq_all))\n",
    "CAGR_sel = 100*((eq_sel.iloc[-1]/10000)-1) ** (365/(df.index[-1] - df.index[0]).days)\n",
    "\n",
    "print(f\"CAGR selection: {round(CAGR_sel,2)}%\")\n",
    "print(f\"CAGR all: {round(CAGR_all,2)}%\")\n"
   ]
  },
  {
   "cell_type": "code",
   "execution_count": 9,
   "metadata": {},
   "outputs": [
    {
     "data": {
      "text/html": [
       "<div>\n",
       "<style scoped>\n",
       "    .dataframe tbody tr th:only-of-type {\n",
       "        vertical-align: middle;\n",
       "    }\n",
       "\n",
       "    .dataframe tbody tr th {\n",
       "        vertical-align: top;\n",
       "    }\n",
       "\n",
       "    .dataframe thead th {\n",
       "        text-align: right;\n",
       "    }\n",
       "</style>\n",
       "<table border=\"1\" class=\"dataframe\">\n",
       "  <thead>\n",
       "    <tr style=\"text-align: right;\">\n",
       "      <th></th>\n",
       "      <th>AMZN</th>\n",
       "      <th>NVDA</th>\n",
       "    </tr>\n",
       "    <tr>\n",
       "      <th>Date</th>\n",
       "      <th></th>\n",
       "      <th></th>\n",
       "    </tr>\n",
       "  </thead>\n",
       "  <tbody>\n",
       "    <tr>\n",
       "      <th>2014-01-02</th>\n",
       "      <td>397.970001</td>\n",
       "      <td>3.746341</td>\n",
       "    </tr>\n",
       "    <tr>\n",
       "      <th>2014-01-03</th>\n",
       "      <td>396.440002</td>\n",
       "      <td>3.701460</td>\n",
       "    </tr>\n",
       "    <tr>\n",
       "      <th>2014-01-06</th>\n",
       "      <td>393.630005</td>\n",
       "      <td>3.751065</td>\n",
       "    </tr>\n",
       "    <tr>\n",
       "      <th>2014-01-07</th>\n",
       "      <td>398.029999</td>\n",
       "      <td>3.812480</td>\n",
       "    </tr>\n",
       "    <tr>\n",
       "      <th>2014-01-08</th>\n",
       "      <td>401.920013</td>\n",
       "      <td>3.864447</td>\n",
       "    </tr>\n",
       "    <tr>\n",
       "      <th>...</th>\n",
       "      <td>...</td>\n",
       "      <td>...</td>\n",
       "    </tr>\n",
       "    <tr>\n",
       "      <th>2021-11-22</th>\n",
       "      <td>3572.570068</td>\n",
       "      <td>319.559998</td>\n",
       "    </tr>\n",
       "    <tr>\n",
       "      <th>2021-11-23</th>\n",
       "      <td>3580.040039</td>\n",
       "      <td>317.459991</td>\n",
       "    </tr>\n",
       "    <tr>\n",
       "      <th>2021-11-24</th>\n",
       "      <td>3580.409912</td>\n",
       "      <td>326.739990</td>\n",
       "    </tr>\n",
       "    <tr>\n",
       "      <th>2021-11-26</th>\n",
       "      <td>3504.560059</td>\n",
       "      <td>315.029999</td>\n",
       "    </tr>\n",
       "    <tr>\n",
       "      <th>2021-11-29</th>\n",
       "      <td>3561.570068</td>\n",
       "      <td>333.760010</td>\n",
       "    </tr>\n",
       "  </tbody>\n",
       "</table>\n",
       "<p>1992 rows × 2 columns</p>\n",
       "</div>"
      ],
      "text/plain": [
       "                   AMZN        NVDA\n",
       "Date                               \n",
       "2014-01-02   397.970001    3.746341\n",
       "2014-01-03   396.440002    3.701460\n",
       "2014-01-06   393.630005    3.751065\n",
       "2014-01-07   398.029999    3.812480\n",
       "2014-01-08   401.920013    3.864447\n",
       "...                 ...         ...\n",
       "2021-11-22  3572.570068  319.559998\n",
       "2021-11-23  3580.040039  317.459991\n",
       "2021-11-24  3580.409912  326.739990\n",
       "2021-11-26  3504.560059  315.029999\n",
       "2021-11-29  3561.570068  333.760010\n",
       "\n",
       "[1992 rows x 2 columns]"
      ]
     },
     "execution_count": 9,
     "metadata": {},
     "output_type": "execute_result"
    }
   ],
   "source": [
    "sel_df"
   ]
  },
  {
   "cell_type": "markdown",
   "metadata": {},
   "source": [
    "# (Optional) For Advanced Students:\n",
    "\n",
    "## Here we will make some modifications to do portfolio optimization\n",
    "\n",
    "\n",
    "This tutorial shows how to solve the following mean-variance portfolio optimization problem for $n$ assets:\n",
    "\n",
    "$$\\begin{aligned}\n",
    "\\min_{x \\in \\{j ... k\\}^n}  q x^T \\Sigma x - \\mu^T x\\\\\n",
    "\\text{subject to: } 1^T x = B\n",
    "\\end{aligned}$$\n",
    "\n",
    "where we use the following notation:\n",
    "\n",
    "- $x \\in \\{-j, +k\\}^n$ denotes the vector of weight allocation variables, which indicate the relative allocation to assign. \n",
    "- $\\mu \\in \\mathbb{R}^n$ defines the expected returns for the assets,\n",
    "- $\\Sigma \\in \\mathbb{R}^{n \\times n}$ specifies the covariances between the assets,\n",
    "- $q > 0$ controls the risk appetite of the decision maker,\n",
    "- and $B$ denotes the budget, i.e. the number of assets to be selected out of $n$.\n",
    "\n",
    "We assume the following simplifications:\n",
    "- all assets have the same price (normalized to 1),\n",
    "- the full budget $B$ has to be spent, i.e. one has to allocate exactly $B$ relative amounts of asset.\n",
    "\n",
    "The equality constraint $1^T x = B$ is mapped to a penalty term $(1^T x - B)^2$ which is scaled by a parameter and subtracted from the objective function. \n",
    "The resulting problem can be mapped to a Hamiltonian whose ground state corresponds to  the optimal solution.\n",
    "This rest of this notebook shows how to use the Variational Quantum Eigensolver (VQE) an optimal solution for a given set of parameters."
   ]
  },
  {
   "cell_type": "code",
   "execution_count": 10,
   "metadata": {},
   "outputs": [
    {
     "data": {
      "text/plain": [
       "\\ This file has been generated by DOcplex\n",
       "\\ ENCODING=ISO-8859-1\n",
       "\\Problem name: Portfolio optimization\n",
       "\n",
       "Minimize\n",
       " obj: - 0.000599271042 x_0 - 0.001284737592 x_1 - 0.002624932997 x_2\n",
       "      - 0.001116300170 x_3 - 0.000075220353 x_4 + [ 0.000114547656 x_0^2\n",
       "      + 0.000231749840 x_0*x_1 + 0.000346644747 x_0*x_2 + 0.000364548322 x_0*x_3\n",
       "      + 0.000220288853 x_0*x_4 + 0.000368438031 x_1^2 + 0.000478009895 x_1*x_2\n",
       "      + 0.000385280912 x_1*x_3 + 0.000179286635 x_1*x_4 + 0.000741456893 x_2^2\n",
       "      + 0.000848382045 x_2*x_3 + 0.000288363519 x_2*x_4 + 0.000841282623 x_3^2\n",
       "      + 0.000360746404 x_3*x_4 + 0.000229709503 x_4^2 ]/2\n",
       "Subject To\n",
       " c0: x_0 + x_1 + x_2 + x_3 + x_4 = 5\n",
       "\n",
       "Bounds\n",
       "       x_0 <= 3\n",
       "       x_1 <= 3\n",
       "       x_2 <= 3\n",
       "       x_3 <= 3\n",
       "       x_4 <= 3\n",
       "\n",
       "Generals\n",
       " x_0 x_1 x_2 x_3 x_4\n",
       "End"
      ]
     },
     "execution_count": 10,
     "metadata": {},
     "output_type": "execute_result"
    }
   ],
   "source": [
    "\n",
    "q = 0.50                   #  risk appetite \n",
    "budget = num_assets        #  Units to allocate\n",
    "penalty = num_assets //2   #  set parameter to scale the budget penalty term\n",
    "bounds = [(0,3)]*num_assets  #  Allocation units, can be negative or positive\n",
    "\n",
    "\n",
    "portfolio = PortfolioOptimization(expected_returns=mu, covariances=sigma, risk_factor=q, budget=budget,bounds=bounds)\n",
    "qp = portfolio.to_quadratic_program()\n",
    "qp"
   ]
  },
  {
   "cell_type": "code",
   "execution_count": 11,
   "metadata": {},
   "outputs": [
    {
     "name": "stderr",
     "output_type": "stream",
     "text": [
      "/opt/conda/lib/python3.8/site-packages/sympy/core/expr.py:3949: SymPyDeprecationWarning: \n",
      "\n",
      "expr_free_symbols method has been deprecated since SymPy 1.9. See\n",
      "https://github.com/sympy/sympy/issues/21494 for more info.\n",
      "\n",
      "  SymPyDeprecationWarning(feature=\"expr_free_symbols method\",\n",
      "/opt/conda/lib/python3.8/site-packages/qiskit_optimization/algorithms/optimization_algorithm.py:141: UserWarning: The sum of probability of samples is not close to 1: f{sum_prob}\n",
      "  warn(\"The sum of probability of samples is not close to 1: f{sum_prob}\")\n"
     ]
    }
   ],
   "source": [
    "algorithm_globals.random_seed = seed+1\n",
    "backend = Aer.get_backend('statevector_simulator')\n",
    "\n",
    "\n",
    "cobyla = COBYLA()\n",
    "cobyla.set_options(maxiter=500)\n",
    "\n",
    "ry = TwoLocal(num_assets, 'ry', 'cz', reps=3, entanglement='full')\n",
    "\n",
    "quantum_instance = QuantumInstance(backend=backend, seed_simulator=seed, seed_transpiler=seed)\n",
    "\n",
    "vqe_mes = VQE(ry, optimizer=cobyla, quantum_instance=quantum_instance)\n",
    "vqe = MinimumEigenOptimizer(vqe_mes)\n",
    "\n",
    "result = vqe.solve(qp)"
   ]
  },
  {
   "cell_type": "code",
   "execution_count": 12,
   "metadata": {},
   "outputs": [
    {
     "data": {
      "text/html": [
       "<div>\n",
       "<style scoped>\n",
       "    .dataframe tbody tr th:only-of-type {\n",
       "        vertical-align: middle;\n",
       "    }\n",
       "\n",
       "    .dataframe tbody tr th {\n",
       "        vertical-align: top;\n",
       "    }\n",
       "\n",
       "    .dataframe thead th {\n",
       "        text-align: right;\n",
       "    }\n",
       "</style>\n",
       "<table border=\"1\" class=\"dataframe\">\n",
       "  <thead>\n",
       "    <tr style=\"text-align: right;\">\n",
       "      <th></th>\n",
       "      <th>SPY</th>\n",
       "      <th>AMZN</th>\n",
       "      <th>NVDA</th>\n",
       "      <th>MU</th>\n",
       "      <th>IBM</th>\n",
       "    </tr>\n",
       "  </thead>\n",
       "  <tbody>\n",
       "    <tr>\n",
       "      <th>Allocation</th>\n",
       "      <td>0.0</td>\n",
       "      <td>2.0</td>\n",
       "      <td>3.0</td>\n",
       "      <td>0.0</td>\n",
       "      <td>0.0</td>\n",
       "    </tr>\n",
       "  </tbody>\n",
       "</table>\n",
       "</div>"
      ],
      "text/plain": [
       "            SPY  AMZN  NVDA   MU  IBM\n",
       "Allocation  0.0   2.0   3.0  0.0  0.0"
      ]
     },
     "execution_count": 12,
     "metadata": {},
     "output_type": "execute_result"
    }
   ],
   "source": [
    "allocations = pandas.DataFrame({f\"{stocks[tidx]}\":result.x[tidx] for tidx in range(len(stocks))},index=['Allocation'])\n",
    "allocations"
   ]
  },
  {
   "cell_type": "markdown",
   "metadata": {},
   "source": [
    "### Student todo, complete an equity curve, CAGR and IR comparison for the a portfolio of all the stocks you selected for optimization compared to one which your Quantum Portfolio Optimzer put together.\n",
    "\n",
    "hints:\n",
    "\n",
    "\n",
    "The variable allocations contains a DataFrame with your relative stock allocations.   \n",
    "df is the full list of stocks you started with."
   ]
  },
  {
   "cell_type": "code",
   "execution_count": 13,
   "metadata": {},
   "outputs": [
    {
     "name": "stdout",
     "output_type": "stream",
     "text": [
      "IR selection: 1.56%\n",
      "IR all: 1.17 %\n",
      "CAGR selection: 154.91%\n",
      "CAGR all: 127.0%\n"
     ]
    },
    {
     "data": {
      "text/html": [
       "<div>\n",
       "<style scoped>\n",
       "    .dataframe tbody tr th:only-of-type {\n",
       "        vertical-align: middle;\n",
       "    }\n",
       "\n",
       "    .dataframe tbody tr th {\n",
       "        vertical-align: top;\n",
       "    }\n",
       "\n",
       "    .dataframe thead th {\n",
       "        text-align: right;\n",
       "    }\n",
       "</style>\n",
       "<table border=\"1\" class=\"dataframe\">\n",
       "  <thead>\n",
       "    <tr style=\"text-align: right;\">\n",
       "      <th></th>\n",
       "      <th>SPY</th>\n",
       "      <th>AMZN</th>\n",
       "      <th>NVDA</th>\n",
       "      <th>MU</th>\n",
       "      <th>IBM</th>\n",
       "    </tr>\n",
       "  </thead>\n",
       "  <tbody>\n",
       "    <tr>\n",
       "      <th>Allocation</th>\n",
       "      <td>0.0</td>\n",
       "      <td>2.0</td>\n",
       "      <td>3.0</td>\n",
       "      <td>0.0</td>\n",
       "      <td>0.0</td>\n",
       "    </tr>\n",
       "  </tbody>\n",
       "</table>\n",
       "</div>"
      ],
      "text/plain": [
       "            SPY  AMZN  NVDA   MU  IBM\n",
       "Allocation  0.0   2.0   3.0  0.0  0.0"
      ]
     },
     "execution_count": 13,
     "metadata": {},
     "output_type": "execute_result"
    },
    {
     "data": {
      "image/png": "[encoded data removed]",
      "text/plain": [
       "<Figure size 432x288 with 1 Axes>"
      ]
     },
     "metadata": {
      "needs_background": "light"
     },
     "output_type": "display_data"
    }
   ],
   "source": [
    "all_df = df\n",
    "sel_df = df[selected_stocks]\n",
    "\n",
    "all_df_dr = all_df.pct_change().dropna().mean(axis=1)\n",
    "sel_df_dr = sel_df.pct_change().dropna().mean(axis=1)\n",
    "\n",
    "\n",
    "eq_all = 10000*all_df_dr.add(1).cumprod()\n",
    "eq_sel = 10000*sel_df_dr.add(1).cumprod()\n",
    "\n",
    "eq_all.plot()\n",
    "eq_sel.plot()\n",
    "plt.legend(['All','Q-Stck-Pck-er'])\n",
    "\n",
    "IR_sel = (sel_df_dr.mean() / sel_df_dr.std()) * (252) ** 0.5\n",
    "IR_all = (all_df_dr.mean() / all_df_dr.std()) * (252) ** 0.5\n",
    "\n",
    "print(f\"IR selection: {round(IR_sel,2)}%\")\n",
    "print(f\"IR all: {round(IR_all,2)} %\")\n",
    "\n",
    "CAGR_all = 100*((eq_all.iloc[-1]/10000)-1) ** (252/len(eq_all))\n",
    "CAGR_sel = 100*((eq_sel.iloc[-1]/10000)-1) ** (365/(df.index[-1] - df.index[0]).days)\n",
    "\n",
    "print(f\"CAGR selection: {round(CAGR_sel,2)}%\")\n",
    "print(f\"CAGR all: {round(CAGR_all,2)}%\")\n",
    "\n",
    "allocations = pandas.DataFrame({f\"{stocks[tidx]}\":result.x[tidx] for tidx in range(len(stocks))},index=['Allocation'])\n",
    "allocations\n"
   ]
  },
  {
   "cell_type": "code",
   "execution_count": null,
   "metadata": {},
   "outputs": [],
   "source": []
  },
  {
   "cell_type": "code",
   "execution_count": null,
   "metadata": {},
   "outputs": [],
   "source": []
  }
 ],
 "metadata": {
  "celltoolbar": "Tags",
  "kernelspec": {
   "display_name": "Qiskit v0.32.1 (ipykernel)",
   "language": "python",
   "name": "python3"
  },
  "language_info": {
   "codemirror_mode": {
    "name": "ipython",
    "version": 3
   },
   "file_extension": ".py",
   "mimetype": "text/x-python",
   "name": "python",
   "nbconvert_exporter": "python",
   "pygments_lexer": "ipython3",
   "version": "3.8.10"
  },
  "varInspector": {
   "cols": {
    "lenName": 16,
    "lenType": 16,
    "lenVar": 40
   },
   "kernels_config": {
    "python": {
     "delete_cmd_postfix": "",
     "delete_cmd_prefix": "del ",
     "library": "var_list.py",
     "varRefreshCmd": "print(var_dic_list())"
    },
    "r": {
     "delete_cmd_postfix": ") ",
     "delete_cmd_prefix": "rm(",
     "library": "var_list.r",
     "varRefreshCmd": "cat(var_dic_list()) "
    }
   },
   "types_to_exclude": [
    "module",
    "function",
    "builtin_function_or_method",
    "instance",
    "_Feature"
   ],
   "window_display": false
  },
  "widgets": {
   "application/vnd.jupyter.widget-state+json": {
    "state": {},
    "version_major": 2,
    "version_minor": 0
   }
  }
 },
 "nbformat": 4,
 "nbformat_minor": 4
}
